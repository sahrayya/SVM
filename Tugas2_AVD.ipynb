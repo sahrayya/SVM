{
  "nbformat": 4,
  "nbformat_minor": 0,
  "metadata": {
    "colab": {
      "provenance": []
    },
    "kernelspec": {
      "name": "python3",
      "display_name": "Python 3"
    },
    "language_info": {
      "name": "python"
    }
  },
  "cells": [
    {
      "cell_type": "code",
      "execution_count": null,
      "metadata": {
        "id": "xJjPmz2_fSMx"
      },
      "outputs": [],
      "source": [
        "# Mengimpor pustaka yang diperlukan\n",
        "import numpy as np\n",
        "import pandas as pd\n",
        "from sklearn.model_selection import train_test_split\n",
        "from sklearn.preprocessing import StandardScaler\n",
        "from sklearn.svm import SVC\n",
        "from sklearn.metrics import confusion_matrix, f1_score\n",
        "from google.colab import drive\n",
        "\n"
      ]
    },
    {
      "cell_type": "code",
      "source": [
        "# Memuat dataset Social Network Ads\n",
        "drive.mount('/content/drive')\n",
        "# Tentukan path file di dalam folder Colab Notebooks\n",
        "file_path = '/content/drive/My Drive/Colab Notebooks/Social_Network_Ads.csv'\n",
        "dataset = pd.read_csv(file_path)\n",
        "# Melihat 5 baris pertama dari dataset\n",
        "print(dataset.head())\n",
        "\n",
        "# Dataset ini biasanya terdiri dari kolom: Age, EstimatedSalary, Purchased\n"
      ],
      "metadata": {
        "colab": {
          "base_uri": "https://localhost:8080/"
        },
        "id": "PDQ8JjMKf3mh",
        "outputId": "a755428c-407d-4228-fc8f-972646824b0d"
      },
      "execution_count": null,
      "outputs": [
        {
          "output_type": "stream",
          "name": "stdout",
          "text": [
            "Drive already mounted at /content/drive; to attempt to forcibly remount, call drive.mount(\"/content/drive\", force_remount=True).\n",
            "   Age  EstimatedSalary  Purchased\n",
            "0   19            19000          0\n",
            "1   35            20000          0\n",
            "2   26            43000          0\n",
            "3   27            57000          0\n",
            "4   19            76000          0\n"
          ]
        }
      ]
    },
    {
      "cell_type": "code",
      "source": [
        "# Mengambil kolom fitur (Age, EstimatedSalary) dan label (Purchased)\n",
        "X = dataset.iloc[:, [0, 1]].values\n",
        "y = dataset.iloc[:, 2].values\n"
      ],
      "metadata": {
        "id": "cGxArtpYf_bt"
      },
      "execution_count": null,
      "outputs": []
    },
    {
      "cell_type": "code",
      "source": [
        "# Membagi dataset menjadi data latih dan data uji (80% : 20%)\n",
        "X_train, X_test, y_train, y_test = train_test_split(X, y, test_size=0.2, random_state=0)\n"
      ],
      "metadata": {
        "id": "qCJL7lR1k-Qg"
      },
      "execution_count": null,
      "outputs": []
    },
    {
      "cell_type": "code",
      "source": [
        "# Melakukan standarisasi fitur agar memiliki skala yang serupa\n",
        "sc = StandardScaler()\n",
        "X_train = sc.fit_transform(X_train)\n",
        "X_test = sc.transform(X_test)\n"
      ],
      "metadata": {
        "id": "x9gk97o5lD0T"
      },
      "execution_count": null,
      "outputs": []
    },
    {
      "cell_type": "code",
      "source": [
        "# Membuat model SVM dengan kernel linear\n",
        "linear_model = SVC(kernel='linear', random_state=0)\n",
        "linear_model.fit(X_train, y_train)\n",
        "\n",
        "# Melakukan prediksi\n",
        "y_pred_linear = linear_model.predict(X_test)\n",
        "\n",
        "# Menghitung confusion matrix dan F1 Score\n",
        "cm_linear = confusion_matrix(y_test, y_pred_linear)\n",
        "f1_linear = f1_score(y_test, y_pred_linear)\n",
        "\n",
        "# Menampilkan hasil\n",
        "print(\"Confusion Matrix (Linear Kernel):\\n\", cm_linear)\n",
        "print(\"F1 Score (Linear Kernel):\", f1_linear)\n"
      ],
      "metadata": {
        "colab": {
          "base_uri": "https://localhost:8080/"
        },
        "id": "WYObFtUjlLPy",
        "outputId": "9619ab8d-47d1-4e1d-cef5-6a13a09e8123"
      },
      "execution_count": null,
      "outputs": [
        {
          "output_type": "stream",
          "name": "stdout",
          "text": [
            "Confusion Matrix (Linear Kernel):\n",
            " [[57  1]\n",
            " [ 6 16]]\n",
            "F1 Score (Linear Kernel): 0.8205128205128205\n"
          ]
        }
      ]
    },
    {
      "cell_type": "code",
      "source": [
        "# Membuat model SVM dengan kernel polynomial\n",
        "poly_model = SVC(kernel='poly', random_state=0)\n",
        "poly_model.fit(X_train, y_train)\n",
        "\n",
        "# Melakukan prediksi\n",
        "y_pred_poly = poly_model.predict(X_test)\n",
        "\n",
        "# Menghitung confusion matrix dan F1 Score\n",
        "cm_poly = confusion_matrix(y_test, y_pred_poly)\n",
        "f1_poly = f1_score(y_test, y_pred_poly)\n",
        "\n",
        "# Menampilkan hasil\n",
        "print(\"Confusion Matrix (Polynomial Kernel):\\n\", cm_poly)\n",
        "print(\"F1 Score (Polynomial Kernel):\", f1_poly)\n"
      ],
      "metadata": {
        "colab": {
          "base_uri": "https://localhost:8080/"
        },
        "id": "5q1W_NJYlTPE",
        "outputId": "910e04ea-b004-485a-f42a-a53f34faaf15"
      },
      "execution_count": null,
      "outputs": [
        {
          "output_type": "stream",
          "name": "stdout",
          "text": [
            "Confusion Matrix (Polynomial Kernel):\n",
            " [[58  0]\n",
            " [ 7 15]]\n",
            "F1 Score (Polynomial Kernel): 0.8108108108108109\n"
          ]
        }
      ]
    },
    {
      "cell_type": "code",
      "source": [
        "# Membuat model SVM dengan kernel sigmoid\n",
        "sigmoid_model = SVC(kernel='sigmoid', random_state=0)\n",
        "sigmoid_model.fit(X_train, y_train)\n",
        "\n",
        "# Melakukan prediksi\n",
        "y_pred_sigmoid = sigmoid_model.predict(X_test)\n",
        "\n",
        "# Menghitung confusion matrix dan F1 Score\n",
        "cm_sigmoid = confusion_matrix(y_test, y_pred_sigmoid)\n",
        "f1_sigmoid = f1_score(y_test, y_pred_sigmoid)\n",
        "\n",
        "# Menampilkan hasil\n",
        "print(\"Confusion Matrix (Sigmoid Kernel):\\n\", cm_sigmoid)\n",
        "print(\"F1 Score (Sigmoid Kernel):\", f1_sigmoid)\n"
      ],
      "metadata": {
        "colab": {
          "base_uri": "https://localhost:8080/"
        },
        "id": "1y_rlEjLlckl",
        "outputId": "bea5bb9a-8b7e-45eb-be80-739b2955d92c"
      },
      "execution_count": null,
      "outputs": [
        {
          "output_type": "stream",
          "name": "stdout",
          "text": [
            "Confusion Matrix (Sigmoid Kernel):\n",
            " [[50  8]\n",
            " [ 8 14]]\n",
            "F1 Score (Sigmoid Kernel): 0.6363636363636364\n"
          ]
        }
      ]
    },
    {
      "cell_type": "code",
      "source": [
        "# Membuat model SVM dengan kernel rbf (default kernel)\n",
        "rbf_model = SVC(kernel='rbf', random_state=0)\n",
        "rbf_model.fit(X_train, y_train)\n",
        "\n",
        "# Melakukan prediksi\n",
        "y_pred_rbf = rbf_model.predict(X_test)\n",
        "\n",
        "# Menghitung confusion matrix dan F1 Score\n",
        "cm_rbf = confusion_matrix(y_test, y_pred_rbf)\n",
        "f1_rbf = f1_score(y_test, y_pred_rbf)\n",
        "\n",
        "# Menampilkan hasil\n",
        "print(\"Confusion Matrix (RBF Kernel):\\n\", cm_rbf)\n",
        "print(\"F1 Score (RBF Kernel):\", f1_rbf)\n"
      ],
      "metadata": {
        "colab": {
          "base_uri": "https://localhost:8080/"
        },
        "id": "OzyiG3fzlj7u",
        "outputId": "38538bc5-1b90-4147-d87d-a32f5cb36a04"
      },
      "execution_count": null,
      "outputs": [
        {
          "output_type": "stream",
          "name": "stdout",
          "text": [
            "Confusion Matrix (RBF Kernel):\n",
            " [[55  3]\n",
            " [ 1 21]]\n",
            "F1 Score (RBF Kernel): 0.9130434782608695\n"
          ]
        }
      ]
    },
    {
      "cell_type": "code",
      "source": [
        "# Membuat DataFrame untuk membandingkan hasil setiap kernel\n",
        "results = pd.DataFrame({\n",
        "    'Kernel': ['Linear', 'Polynomial', 'Sigmoid', 'RBF'],\n",
        "    'F1 Score': [f1_linear, f1_poly, f1_sigmoid, f1_rbf]\n",
        "})\n",
        "\n",
        "# Menampilkan hasil perbandingan\n",
        "print(results.sort_values(by='F1 Score', ascending=False))\n"
      ],
      "metadata": {
        "colab": {
          "base_uri": "https://localhost:8080/"
        },
        "id": "ND66ieCYlqCB",
        "outputId": "d5d0ce88-e4f2-4cde-f7e6-df01e532e2fc"
      },
      "execution_count": null,
      "outputs": [
        {
          "output_type": "stream",
          "name": "stdout",
          "text": [
            "       Kernel  F1 Score\n",
            "3         RBF  0.913043\n",
            "0      Linear  0.820513\n",
            "1  Polynomial  0.810811\n",
            "2     Sigmoid  0.636364\n"
          ]
        }
      ]
    },
    {
      "cell_type": "markdown",
      "source": [],
      "metadata": {
        "id": "jt6SmMBqgEtj"
      }
    }
  ]
}